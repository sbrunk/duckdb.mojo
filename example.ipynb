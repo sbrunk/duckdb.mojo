{
 "cells": [
  {
   "cell_type": "markdown",
   "metadata": {},
   "source": [
    "# DuckDB.mojo examples\n",
    "\n",
    "## Connect to a database"
   ]
  },
  {
   "cell_type": "code",
   "execution_count": 1,
   "metadata": {},
   "outputs": [],
   "source": [
    "from duckdb import *\n",
    "var con = DuckDB.connect(\":memory:\")\n",
    "# var con = DuckDB.connect(\"train_services.duckdb\")"
   ]
  },
  {
   "cell_type": "markdown",
   "metadata": {},
   "source": [
    "## Read data from a remote Parquet file"
   ]
  },
  {
   "cell_type": "code",
   "execution_count": 2,
   "metadata": {},
   "outputs": [],
   "source": [
    "_ = con.execute(\"\"\"\n",
    "CREATE TABLE train_services AS\n",
    "FROM 's3://duckdb-blobs/train_services.parquet';\n",
    "\"\"\")"
   ]
  },
  {
   "cell_type": "markdown",
   "metadata": {},
   "source": [
    "## Run a query and extract the result"
   ]
  },
  {
   "cell_type": "code",
   "execution_count": 3,
   "metadata": {},
   "outputs": [
    {
     "name": "stdout",
     "output_type": "stream",
     "text": [
      "Column(0, station_name: varchar)\n",
      "Column(1, num_services: bigint)\n"
     ]
    }
   ],
   "source": [
    "var result: MaterializedResult = con.execute(\n",
    "    \"\"\"\n",
    "-- Get the top-3 busiest train stations\n",
    "SELECT station_name, count(*) AS num_services\n",
    "FROM train_services\n",
    "GROUP BY ALL\n",
    "ORDER BY num_services DESC\n",
    "LIMIT 3;\n",
    "\"\"\"\n",
    ").fetch_all()\n",
    "\n",
    "for col in result.columns():\n",
    "    print(col[])"
   ]
  },
  {
   "cell_type": "code",
   "execution_count": 4,
   "metadata": {},
   "outputs": [
    {
     "name": "stdout",
     "output_type": "stream",
     "text": [
      "Utrecht Centraal   7663\n",
      "Amsterdam Centraal   7591\n",
      "Zwolle   5013\n"
     ]
    }
   ],
   "source": [
    "for row in range(len(result)):\n",
    "    print(\n",
    "        result.get(varchar, col=0, row=row).value(),\n",
    "        \" \",\n",
    "        result.get(bigint, col=1, row=row).value(),\n",
    "    )"
   ]
  },
  {
   "cell_type": "markdown",
   "metadata": {},
   "source": [
    "## Use one of DuckDB's many integrations"
   ]
  },
  {
   "cell_type": "code",
   "execution_count": 5,
   "metadata": {},
   "outputs": [],
   "source": [
    "_ = con.execute(\"COPY (select * from train_services limit 100) TO 'train_services.csv'\")"
   ]
  },
  {
   "cell_type": "markdown",
   "metadata": {},
   "source": [
    "## Working with lists"
   ]
  },
  {
   "cell_type": "code",
   "execution_count": 6,
   "metadata": {},
   "outputs": [
    {
     "name": "stdout",
     "output_type": "stream",
     "text": [
      "Column(0, main.list_value('a', 'b', 'c'): list(varchar))\n"
     ]
    }
   ],
   "source": [
    "var list_result = con.execute(\"SELECT ['a', 'b', 'c']\").fetch_all()\n",
    "for col in list_result.columns():\n",
    "    print(col[])"
   ]
  },
  {
   "cell_type": "code",
   "execution_count": 7,
   "metadata": {},
   "outputs": [],
   "source": [
    "# print helper\n",
    "from collections import Optional\n",
    "fn print_list[T: StringableCollectionElement](l: List[Optional[T]]):\n",
    "    var ls = List[String]()\n",
    "    for i in l:\n",
    "        if i[]:\n",
    "            ls.append(str(i[].value()))\n",
    "        else:\n",
    "            ls.append(\"NULL\")\n",
    "    print(\"[\", (\",\").join(ls), \"]\", sep=\"\")"
   ]
  },
  {
   "cell_type": "code",
   "execution_count": 8,
   "metadata": {},
   "outputs": [
    {
     "name": "stdout",
     "output_type": "stream",
     "text": [
      "[a,b,c]\n"
     ]
    }
   ],
   "source": [
    "var l: Optional[List[Optional[String]]] = list_result.get(list(varchar), col=0, row=0)\n",
    "print_list(l.value())"
   ]
  }
 ],
 "metadata": {
  "kernelspec": {
   "display_name": "Mojo (nightly)",
   "language": "mojo",
   "name": "mojo-nightly-jupyter-kernel"
  },
  "language_info": {
   "codemirror_mode": {
    "name": "mojo"
   },
   "file_extension": ".mojo",
   "mimetype": "text/x-mojo",
   "name": "mojo"
  }
 },
 "nbformat": 4,
 "nbformat_minor": 2
}
